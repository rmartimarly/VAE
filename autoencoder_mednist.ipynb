{
  "cells": [
    {
      "cell_type": "markdown",
      "metadata": {
        "id": "Zch2CXO82AdT"
      },
      "source": [
        "Copyright (c) MONAI Consortium  \n",
        "Licensed under the Apache License, Version 2.0 (the \"License\");  \n",
        "you may not use this file except in compliance with the License.  \n",
        "You may obtain a copy of the License at  \n",
        "&nbsp;&nbsp;&nbsp;&nbsp;http://www.apache.org/licenses/LICENSE-2.0  \n",
        "Unless required by applicable law or agreed to in writing, software  \n",
        "distributed under the License is distributed on an \"AS IS\" BASIS,  \n",
        "WITHOUT WARRANTIES OR CONDITIONS OF ANY KIND, either express or implied.  \n",
        "See the License for the specific language governing permissions and  \n",
        "limitations under the License."
      ]
    },
    {
      "cell_type": "markdown",
      "metadata": {
        "id": "vxRVupxj2AdV"
      },
      "source": [
        "# Autoencoder network with MedNIST Dataset\n",
        "\n",
        "This notebook illustrates the use of an autoencoder in MONAI for the purpose of image deblurring/denoising.\n",
        "\n",
        "# Learning objectives\n",
        "This will go through the steps of:\n",
        "* Loading the data from a remote source\n",
        "* Using a lambda to create a dictionary of images\n",
        "* Using MONAI's in-built AutoEncoder\n",
        "\n",
        "[![Open In Colab](https://colab.research.google.com/assets/colab-badge.svg)](https://colab.research.google.com/github/Project-MONAI/tutorials/blob/main/modules/autoencoder_mednist.ipynb)"
      ]
    },
    {
      "cell_type": "markdown",
      "metadata": {
        "id": "1_FsR7eo2AdV"
      },
      "source": [
        "## Setup environment"
      ]
    },
    {
      "cell_type": "code",
      "execution_count": 22,
      "metadata": {
        "id": "f-M26Uzp2AdW",
        "outputId": "fa08495b-7854-4d53-d32b-9c20e1a59cec",
        "colab": {
          "base_uri": "https://localhost:8080/"
        }
      },
      "outputs": [
        {
          "output_type": "stream",
          "name": "stdout",
          "text": [
            "2024-02-16 18:38:17.693060: E external/local_xla/xla/stream_executor/cuda/cuda_dnn.cc:9261] Unable to register cuDNN factory: Attempting to register factory for plugin cuDNN when one has already been registered\n",
            "2024-02-16 18:38:17.693110: E external/local_xla/xla/stream_executor/cuda/cuda_fft.cc:607] Unable to register cuFFT factory: Attempting to register factory for plugin cuFFT when one has already been registered\n",
            "2024-02-16 18:38:17.694342: E external/local_xla/xla/stream_executor/cuda/cuda_blas.cc:1515] Unable to register cuBLAS factory: Attempting to register factory for plugin cuBLAS when one has already been registered\n",
            "2024-02-16 18:38:19.283242: W tensorflow/compiler/tf2tensorrt/utils/py_utils.cc:38] TF-TRT Warning: Could not find TensorRT\n"
          ]
        }
      ],
      "source": [
        "!python -c \"import monai\" || pip install -q \"monai-weekly[pillow, tqdm]\""
      ]
    },
    {
      "cell_type": "code",
      "source": [
        "import tensorflow as tf\n",
        "tf.test.gpu_device_name()"
      ],
      "metadata": {
        "id": "RIaTDRL2M3R4",
        "outputId": "6d2f93c9-b2b8-4bc2-abbe-1973c05930e3",
        "colab": {
          "base_uri": "https://localhost:8080/",
          "height": 35
        }
      },
      "execution_count": 26,
      "outputs": [
        {
          "output_type": "execute_result",
          "data": {
            "text/plain": [
              "'/device:GPU:0'"
            ],
            "application/vnd.google.colaboratory.intrinsic+json": {
              "type": "string"
            }
          },
          "metadata": {},
          "execution_count": 26
        }
      ]
    },
    {
      "cell_type": "markdown",
      "metadata": {
        "id": "6A9cX_4T2AdX"
      },
      "source": [
        "## Setup imports"
      ]
    },
    {
      "cell_type": "code",
      "execution_count": 27,
      "metadata": {
        "tags": [],
        "id": "aEd6bNb12AdX",
        "outputId": "3b8e1bb5-3e61-453b-97ee-2ffd024148a5",
        "colab": {
          "base_uri": "https://localhost:8080/"
        }
      },
      "outputs": [
        {
          "output_type": "stream",
          "name": "stdout",
          "text": [
            "MONAI version: 1.4.dev2406\n",
            "Numpy version: 1.25.2\n",
            "Pytorch version: 2.1.0+cu121\n",
            "MONAI flags: HAS_EXT = False, USE_COMPILED = False, USE_META_DICT = False\n",
            "MONAI rev id: e4576456e01f35d1753f0c8fd1e6dc8a61b1f6e0\n",
            "MONAI __file__: /usr/local/lib/python3.10/dist-packages/monai/__init__.py\n",
            "\n",
            "Optional dependencies:\n",
            "Pytorch Ignite version: NOT INSTALLED or UNKNOWN VERSION.\n",
            "ITK version: NOT INSTALLED or UNKNOWN VERSION.\n",
            "Nibabel version: 4.0.2\n",
            "scikit-image version: 0.19.3\n",
            "scipy version: 1.11.4\n",
            "Pillow version: 9.4.0\n",
            "Tensorboard version: 2.15.2\n",
            "gdown version: 4.7.3\n",
            "TorchVision version: 0.16.0+cu121\n",
            "tqdm version: 4.66.2\n",
            "lmdb version: NOT INSTALLED or UNKNOWN VERSION.\n",
            "psutil version: 5.9.5\n",
            "pandas version: 1.5.3\n",
            "einops version: NOT INSTALLED or UNKNOWN VERSION.\n",
            "transformers version: 4.35.2\n",
            "mlflow version: NOT INSTALLED or UNKNOWN VERSION.\n",
            "pynrrd version: NOT INSTALLED or UNKNOWN VERSION.\n",
            "clearml version: NOT INSTALLED or UNKNOWN VERSION.\n",
            "\n",
            "For details about installing the optional dependencies, please visit:\n",
            "    https://docs.monai.io/en/latest/installation.html#installing-the-recommended-dependencies\n",
            "\n"
          ]
        }
      ],
      "source": [
        "import logging\n",
        "import os\n",
        "import shutil\n",
        "import sys\n",
        "import tempfile\n",
        "import random\n",
        "import numpy as np\n",
        "from tqdm import trange\n",
        "import matplotlib.pyplot as plt\n",
        "import torch\n",
        "from skimage.util import random_noise\n",
        "\n",
        "from monai.apps import download_and_extract\n",
        "from monai.config import print_config\n",
        "from monai.data import CacheDataset, DataLoader\n",
        "from monai.networks.nets import AutoEncoder\n",
        "from monai.transforms import (\n",
        "    EnsureChannelFirstD,\n",
        "    Compose,\n",
        "    LoadImageD,\n",
        "    RandFlipD,\n",
        "    RandRotateD,\n",
        "    RandZoomD,\n",
        "    ScaleIntensityD,\n",
        "    EnsureTypeD,\n",
        "    Lambda,\n",
        ")\n",
        "from monai.utils import set_determinism\n",
        "\n",
        "print_config()"
      ]
    },
    {
      "cell_type": "code",
      "execution_count": 40,
      "metadata": {
        "id": "-lnFDgZN2AdX",
        "outputId": "a44b0e92-6104-4c2d-cc04-4016c6b494b8",
        "colab": {
          "base_uri": "https://localhost:8080/"
        }
      },
      "outputs": [
        {
          "output_type": "stream",
          "name": "stdout",
          "text": [
            "cuda\n"
          ]
        }
      ],
      "source": [
        "logging.basicConfig(stream=sys.stdout, level=logging.INFO)\n",
        "set_determinism(0)\n",
        "device = torch.device(\"cuda\" if torch.cuda.is_available() else \"cpu\")\n",
        "print (device)"
      ]
    },
    {
      "cell_type": "code",
      "execution_count": 29,
      "metadata": {
        "id": "oEmBVfBO2AdX"
      },
      "outputs": [],
      "source": [
        "# Create small visualisation function\n",
        "def plot_ims(ims, shape=None, figsize=(10, 10), titles=None):\n",
        "    shape = (1, len(ims)) if shape is None else shape\n",
        "    plt.subplots(*shape, figsize=figsize)\n",
        "    for i, im in enumerate(ims):\n",
        "        plt.subplot(*shape, i + 1)\n",
        "        im = plt.imread(im) if isinstance(im, str) else torch.squeeze(im)\n",
        "        plt.imshow(im, cmap=\"gray\")\n",
        "        if titles is not None:\n",
        "            plt.title(titles[i])\n",
        "        plt.axis(\"off\")\n",
        "    plt.tight_layout()\n",
        "    plt.show()"
      ]
    },
    {
      "cell_type": "markdown",
      "metadata": {
        "id": "xPh2yD9s2AdY"
      },
      "source": [
        "# Get the data\n",
        "\n",
        "The MedNIST dataset was gathered from several sets from [TCIA](https://wiki.cancerimagingarchive.net/display/Public/Data+Usage+Policies+and+Restrictions),\n",
        "[the RSNA Bone Age Challenge](http://rsnachallenges.cloudapp.net/competitions/4),\n",
        "and [the NIH Chest X-ray dataset](https://cloud.google.com/healthcare/docs/resources/public-datasets/nih-chest).\n",
        "\n",
        "The dataset is kindly made available by [Dr. Bradley J. Erickson M.D., Ph.D.](https://www.mayo.edu/research/labs/radiology-informatics/overview) (Department of Radiology, Mayo Clinic)\n",
        "under the Creative Commons [CC BY-SA 4.0 license](https://creativecommons.org/licenses/by-sa/4.0/)."
      ]
    },
    {
      "cell_type": "code",
      "execution_count": 30,
      "metadata": {
        "id": "riJ7SgE72AdY",
        "outputId": "58a40910-d3d4-4517-a1b0-8c3e8a7dfd46",
        "colab": {
          "base_uri": "https://localhost:8080/"
        }
      },
      "outputs": [
        {
          "output_type": "stream",
          "name": "stdout",
          "text": [
            "/tmp/tmpp5w2rj06\n"
          ]
        }
      ],
      "source": [
        "directory = os.environ.get(\"MONAI_DATA_DIRECTORY\")\n",
        "root_dir = tempfile.mkdtemp() if directory is None else directory\n",
        "print(root_dir)"
      ]
    },
    {
      "cell_type": "code",
      "execution_count": 31,
      "metadata": {
        "tags": [],
        "id": "ZAH6sqY92AdZ",
        "outputId": "f168602b-d6c1-4a4e-c351-3e0f07774681",
        "colab": {
          "base_uri": "https://localhost:8080/"
        }
      },
      "outputs": [
        {
          "output_type": "stream",
          "name": "stderr",
          "text": [
            "MedNIST.tar.gz: 59.0MB [00:00, 75.3MB/s]                           "
          ]
        },
        {
          "output_type": "stream",
          "name": "stdout",
          "text": [
            "2024-02-16 18:40:12,864 - INFO - Downloaded: /tmp/tmpp5w2rj06/MedNIST.tar.gz\n"
          ]
        },
        {
          "output_type": "stream",
          "name": "stderr",
          "text": [
            "\n"
          ]
        },
        {
          "output_type": "stream",
          "name": "stdout",
          "text": [
            "2024-02-16 18:40:12,982 - INFO - Verified 'MedNIST.tar.gz', md5: 0bc7306e7427e00ad1c5526a6677552d.\n",
            "2024-02-16 18:40:12,983 - INFO - Writing into directory: /tmp/tmpp5w2rj06.\n"
          ]
        }
      ],
      "source": [
        "resource = \"https://github.com/Project-MONAI/MONAI-extra-test-data/releases/download/0.8.1/MedNIST.tar.gz\"\n",
        "md5 = \"0bc7306e7427e00ad1c5526a6677552d\"\n",
        "\n",
        "compressed_file = os.path.join(root_dir, \"MedNIST.tar.gz\")\n",
        "data_dir = os.path.join(root_dir, \"MedNIST\")\n",
        "if not os.path.exists(data_dir):\n",
        "    download_and_extract(resource, compressed_file, root_dir, md5)"
      ]
    },
    {
      "cell_type": "code",
      "execution_count": 32,
      "metadata": {
        "id": "9Mi33ovp2AdZ",
        "outputId": "dfc56c49-603c-467d-98ba-a0031f59e332",
        "colab": {
          "base_uri": "https://localhost:8080/",
          "height": 583
        }
      },
      "outputs": [
        {
          "output_type": "display_data",
          "data": {
            "text/plain": [
              "<Figure size 1000x1000 with 8 Axes>"
            ],
            "image/png": "[encoded data removed]"
          },
          "metadata": {}
        }
      ],
      "source": [
        "# scan_type could be  AbdomenCT  BreastMRI  CXR  ChestCT  Hand  HeadCT\n",
        "scan_type = \"Hand\"\n",
        "im_dir = os.path.join(data_dir, scan_type)\n",
        "all_filenames = [os.path.join(im_dir, filename) for filename in os.listdir(im_dir)]\n",
        "random.shuffle(all_filenames)\n",
        "\n",
        "# Visualise a few of them\n",
        "rand_images = np.random.choice(all_filenames, 8, replace=False)\n",
        "plot_ims(rand_images, shape=(2, 4))"
      ]
    },
    {
      "cell_type": "code",
      "execution_count": 33,
      "metadata": {
        "id": "gUOTsmZb2AdZ",
        "outputId": "8826ef58-3ccb-41cb-871a-c486c4aaef5e",
        "colab": {
          "base_uri": "https://localhost:8080/"
        }
      },
      "outputs": [
        {
          "output_type": "stream",
          "name": "stdout",
          "text": [
            "total number of images: 10000\n",
            "number of images for training: 8000\n",
            "number of images for testing: 2000\n"
          ]
        }
      ],
      "source": [
        "# Split into training and testing\n",
        "test_frac = 0.2\n",
        "num_test = int(len(all_filenames) * test_frac)\n",
        "num_train = len(all_filenames) - num_test\n",
        "train_datadict = [{\"im\": fname} for fname in all_filenames[:num_train]]\n",
        "test_datadict = [{\"im\": fname} for fname in all_filenames[-num_test:]]\n",
        "print(f\"total number of images: {len(all_filenames)}\")\n",
        "print(f\"number of images for training: {len(train_datadict)}\")\n",
        "print(f\"number of images for testing: {len(test_datadict)}\")"
      ]
    },
    {
      "cell_type": "markdown",
      "metadata": {
        "id": "_qUmMoAl2AdZ"
      },
      "source": [
        "# Create the image transform chain\n",
        "\n",
        "To train the autoencoder to de-blur/de-noise our images, we'll want to pass the degraded image into the encoder, but in the loss function, we'll do the comparison with the original, undegraded version. In this sense, the loss function will be minimised when the encode and decode steps manage to remove the degradation.\n",
        "\n",
        "Other than the fact that one version of the image is degraded and the other is not, we want them to be identical, meaning they need to be generated from the same transforms. The easiest way to do this is via dictionary transforms, where at the end, we have a lambda function that will return a dictionary containing the three images – the original, the Gaussian blurred and the noisy (salt and pepper)."
      ]
    },
    {
      "cell_type": "code",
      "execution_count": 34,
      "metadata": {
        "id": "GzWcVWGZ2AdZ"
      },
      "outputs": [],
      "source": [
        "NoiseLambda = Lambda(\n",
        "    lambda d: {\n",
        "        \"orig\": d[\"im\"],\n",
        "        \"gaus\": torch.tensor(random_noise(d[\"im\"], mode=\"gaussian\"), dtype=torch.float32),\n",
        "        \"s&p\": torch.tensor(random_noise(d[\"im\"], mode=\"s&p\", salt_vs_pepper=0.1)),\n",
        "    }\n",
        ")\n",
        "\n",
        "train_transforms = Compose(\n",
        "    [\n",
        "        LoadImageD(keys=[\"im\"]),\n",
        "        EnsureChannelFirstD(keys=[\"im\"]),\n",
        "        ScaleIntensityD(keys=[\"im\"]),\n",
        "        RandRotateD(keys=[\"im\"], range_x=np.pi / 12, prob=0.5, keep_size=True),\n",
        "        RandFlipD(keys=[\"im\"], spatial_axis=0, prob=0.5),\n",
        "        RandZoomD(keys=[\"im\"], min_zoom=0.9, max_zoom=1.1, prob=0.5),\n",
        "        EnsureTypeD(keys=[\"im\"]),\n",
        "        NoiseLambda,\n",
        "    ]\n",
        ")\n",
        "\n",
        "test_transforms = Compose(\n",
        "    [\n",
        "        LoadImageD(keys=[\"im\"]),\n",
        "        EnsureChannelFirstD(keys=[\"im\"]),\n",
        "        ScaleIntensityD(keys=[\"im\"]),\n",
        "        EnsureTypeD(keys=[\"im\"]),\n",
        "        NoiseLambda,\n",
        "    ]\n",
        ")"
      ]
    },
    {
      "cell_type": "markdown",
      "metadata": {
        "id": "mSRQxWLg2AdZ"
      },
      "source": [
        "### Create dataset and dataloader\n",
        "\n",
        "Hold data and present batches during training."
      ]
    },
    {
      "cell_type": "code",
      "execution_count": 35,
      "metadata": {
        "tags": [],
        "id": "QOUHf1_S2Ada",
        "outputId": "e6fff5e7-53ce-43fe-d9fa-874434d1aded",
        "colab": {
          "base_uri": "https://localhost:8080/"
        }
      },
      "outputs": [
        {
          "output_type": "stream",
          "name": "stderr",
          "text": [
            "Loading dataset: 100%|██████████| 8000/8000 [00:13<00:00, 596.46it/s]\n",
            "/usr/local/lib/python3.10/dist-packages/torch/utils/data/dataloader.py:557: UserWarning: This DataLoader will create 10 worker processes in total. Our suggested max number of worker in current system is 2, which is smaller than what this DataLoader is going to create. Please be aware that excessive worker creation might get DataLoader running slow or even freeze, lower the worker number to avoid potential slowness/freeze if necessary.\n",
            "  warnings.warn(_create_warning_msg(\n",
            "Loading dataset: 100%|██████████| 2000/2000 [00:06<00:00, 308.30it/s]\n"
          ]
        }
      ],
      "source": [
        "batch_size = 300\n",
        "num_workers = 10\n",
        "\n",
        "train_ds = CacheDataset(train_datadict, train_transforms, num_workers=num_workers)\n",
        "train_loader = DataLoader(train_ds, batch_size=batch_size, shuffle=True, num_workers=num_workers)\n",
        "test_ds = CacheDataset(test_datadict, test_transforms, num_workers=num_workers)\n",
        "test_loader = DataLoader(test_ds, batch_size=batch_size, shuffle=True, num_workers=num_workers)"
      ]
    },
    {
      "cell_type": "code",
      "execution_count": 36,
      "metadata": {
        "id": "AuakNCuX2Ada"
      },
      "outputs": [],
      "source": [
        "# Get image original and its degraded versions\n",
        "def get_single_im(ds):\n",
        "    loader = torch.utils.data.DataLoader(ds, batch_size=1, num_workers=10, shuffle=True)\n",
        "    itera = iter(loader)\n",
        "    return next(itera)"
      ]
    },
    {
      "cell_type": "code",
      "execution_count": 37,
      "metadata": {
        "id": "xfM4TY9G2Ada",
        "outputId": "d27f33a9-413a-4708-ba29-f199cdd1621f",
        "colab": {
          "base_uri": "https://localhost:8080/",
          "height": 325
        }
      },
      "outputs": [
        {
          "output_type": "display_data",
          "data": {
            "text/plain": [
              "<Figure size 1000x1000 with 3 Axes>"
            ],
            "image/png": "[encoded data removed]"
          },
          "metadata": {}
        }
      ],
      "source": [
        "data = get_single_im(train_ds)\n",
        "plot_ims([data[\"orig\"], data[\"gaus\"], data[\"s&p\"]], titles=[\"orig\", \"Gaussian\", \"s&p\"])"
      ]
    },
    {
      "cell_type": "code",
      "execution_count": 38,
      "metadata": {
        "scrolled": false,
        "id": "Xtz5wC3-2Ada"
      },
      "outputs": [],
      "source": [
        "def train(dict_key_for_training, max_epochs=10, learning_rate=1e-3):\n",
        "    model = AutoEncoder(\n",
        "        spatial_dims=2,\n",
        "        in_channels=1,\n",
        "        out_channels=1,\n",
        "        channels=(4, 8, 16, 32),\n",
        "        strides=(2, 2, 2, 2),\n",
        "    ).to(device)\n",
        "\n",
        "    # Create loss fn and optimiser\n",
        "    loss_function = torch.nn.MSELoss()\n",
        "    optimizer = torch.optim.Adam(model.parameters(), learning_rate)\n",
        "\n",
        "    epoch_loss_values = []\n",
        "\n",
        "    t = trange(max_epochs, desc=f\"{dict_key_for_training} -- epoch 0, avg loss: inf\", leave=True)\n",
        "    for epoch in t:\n",
        "        model.train()\n",
        "        epoch_loss = 0\n",
        "        step = 0\n",
        "        for batch_data in train_loader:\n",
        "            step += 1\n",
        "            inputs = batch_data[dict_key_for_training].to(device)\n",
        "            optimizer.zero_grad()\n",
        "            outputs = model(inputs)\n",
        "            loss = loss_function(outputs, batch_data[\"orig\"].to(device))\n",
        "            loss.backward()\n",
        "            optimizer.step()\n",
        "            epoch_loss += loss.item()\n",
        "        epoch_loss /= step\n",
        "        epoch_loss_values.append(epoch_loss)\n",
        "        t.set_description(  # noqa: B038\n",
        "            f\"{dict_key_for_training} -- epoch {epoch + 1}\" + f\", average loss: {epoch_loss:.4f}\"\n",
        "        )\n",
        "    return model, epoch_loss_values"
      ]
    },
    {
      "cell_type": "code",
      "execution_count": null,
      "metadata": {
        "id": "jUQob-R82Ada",
        "outputId": "8145fc67-0872-48fa-f4d8-e85d4bea0a0c",
        "colab": {
          "base_uri": "https://localhost:8080/"
        }
      },
      "outputs": [
        {
          "output_type": "stream",
          "name": "stderr",
          "text": [
            "\rorig -- epoch 0, avg loss: inf:   0%|          | 0/50 [00:00<?, ?it/s]/usr/local/lib/python3.10/dist-packages/torch/utils/data/dataloader.py:557: UserWarning: This DataLoader will create 10 worker processes in total. Our suggested max number of worker in current system is 2, which is smaller than what this DataLoader is going to create. Please be aware that excessive worker creation might get DataLoader running slow or even freeze, lower the worker number to avoid potential slowness/freeze if necessary.\n",
            "  warnings.warn(_create_warning_msg(\n",
            "orig -- epoch 19, average loss: 0.0160:  38%|███▊      | 19/50 [19:20<30:41, 59.41s/it]"
          ]
        }
      ],
      "source": [
        "max_epochs = 50\n",
        "training_types = [\"orig\", \"gaus\", \"s&p\"]\n",
        "models = []\n",
        "epoch_losses = []\n",
        "for training_type in training_types:\n",
        "    model, epoch_loss = train(training_type, max_epochs=max_epochs)\n",
        "    models.append(model)\n",
        "    epoch_losses.append(epoch_loss)"
      ]
    },
    {
      "cell_type": "code",
      "execution_count": null,
      "metadata": {
        "id": "vkgYvVHf2Ada"
      },
      "outputs": [],
      "source": [
        "plt.figure()\n",
        "plt.title(\"Epoch Average Loss\")\n",
        "plt.xlabel(\"epoch\")\n",
        "for y, label in zip(epoch_losses, training_types):\n",
        "    x = list(range(1, len(y) + 1))\n",
        "    (line,) = plt.plot(x, y)\n",
        "    line.set_label(label)\n",
        "plt.legend()"
      ]
    },
    {
      "cell_type": "code",
      "execution_count": null,
      "metadata": {
        "id": "quOaQkjS2Ada"
      },
      "outputs": [],
      "source": [
        "data = get_single_im(test_ds)\n",
        "\n",
        "recons = []\n",
        "for model, training_type in zip(models, training_types):\n",
        "    im = data[training_type]\n",
        "    recon = model(im.to(device)).detach().cpu()\n",
        "    recons.append(recon)\n",
        "\n",
        "plot_ims(\n",
        "    [data[\"orig\"], data[\"gaus\"], data[\"s&p\"]] + recons,\n",
        "    titles=[\"orig\", \"Gaussian\", \"S&P\"] + [\"recon w/\\n\" + x for x in training_types],\n",
        "    shape=(2, len(training_types)),\n",
        ")"
      ]
    },
    {
      "cell_type": "markdown",
      "metadata": {
        "id": "axn2ZRkJ2Ada"
      },
      "source": [
        "### Cleanup data directory\n",
        "\n",
        "Remove directory if a temporary was used."
      ]
    },
    {
      "cell_type": "code",
      "execution_count": null,
      "metadata": {
        "pycharm": {
          "is_executing": true
        },
        "id": "R0xs_Sd72Adb"
      },
      "outputs": [],
      "source": [
        "if directory is None:\n",
        "    shutil.rmtree(root_dir)"
      ]
    }
  ],
  "metadata": {
    "kernelspec": {
      "display_name": "Python 3",
      "name": "python3"
    },
    "language_info": {
      "codemirror_mode": {
        "name": "ipython",
        "version": 3
      },
      "file_extension": ".py",
      "mimetype": "text/x-python",
      "name": "python",
      "nbconvert_exporter": "python",
      "pygments_lexer": "ipython3",
      "version": "3.8.10"
    },
    "colab": {
      "provenance": [],
      "history_visible": true,
      "gpuType": "T4"
    },
    "accelerator": "GPU"
  },
  "nbformat": 4,
  "nbformat_minor": 0
}